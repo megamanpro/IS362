{
 "cells": [
  {
   "cell_type": "code",
   "execution_count": 34,
   "id": "9be383e7-e90c-4b34-8a29-c1471e55314a",
   "metadata": {},
   "outputs": [
    {
     "name": "stdout",
     "output_type": "stream",
     "text": [
      "CREATE TABLE \"albums\"\n",
      "(\n",
      "    [AlbumId] INTEGER PRIMARY KEY AUTOINCREMENT NOT NULL,\n",
      "    [Title] NVARCHAR(160)  NOT NULL,\n",
      "    [ArtistId] INTEGER  NOT NULL,\n",
      "    FOREIGN KEY ([ArtistId]) REFERENCES \"artists\" ([ArtistId]) \n",
      "\t\tON DELETE NO ACTION ON UPDATE NO ACTION\n",
      ")\n",
      "CREATE TABLE sqlite_sequence(name,seq)\n",
      "CREATE TABLE \"artists\"\n",
      "(\n",
      "    [ArtistId] INTEGER PRIMARY KEY AUTOINCREMENT NOT NULL,\n",
      "    [Name] NVARCHAR(120)\n",
      ")\n",
      "CREATE TABLE \"customers\"\n",
      "(\n",
      "    [CustomerId] INTEGER PRIMARY KEY AUTOINCREMENT NOT NULL,\n",
      "    [FirstName] NVARCHAR(40)  NOT NULL,\n",
      "    [LastName] NVARCHAR(20)  NOT NULL,\n",
      "    [Company] NVARCHAR(80),\n",
      "    [Address] NVARCHAR(70),\n",
      "    [City] NVARCHAR(40),\n",
      "    [State] NVARCHAR(40),\n",
      "    [Country] NVARCHAR(40),\n",
      "    [PostalCode] NVARCHAR(10),\n",
      "    [Phone] NVARCHAR(24),\n",
      "    [Fax] NVARCHAR(24),\n",
      "    [Email] NVARCHAR(60)  NOT NULL,\n",
      "    [SupportRepId] INTEGER,\n",
      "    FOREIGN KEY ([SupportRepId]) REFERENCES \"employees\" ([EmployeeId]) \n",
      "\t\tON DELETE NO ACTION ON UPDATE NO ACTION\n",
      ")\n",
      "CREATE TABLE \"employees\"\n",
      "(\n",
      "    [EmployeeId] INTEGER PRIMARY KEY AUTOINCREMENT NOT NULL,\n",
      "    [LastName] NVARCHAR(20)  NOT NULL,\n",
      "    [FirstName] NVARCHAR(20)  NOT NULL,\n",
      "    [Title] NVARCHAR(30),\n",
      "    [ReportsTo] INTEGER,\n",
      "    [BirthDate] DATETIME,\n",
      "    [HireDate] DATETIME,\n",
      "    [Address] NVARCHAR(70),\n",
      "    [City] NVARCHAR(40),\n",
      "    [State] NVARCHAR(40),\n",
      "    [Country] NVARCHAR(40),\n",
      "    [PostalCode] NVARCHAR(10),\n",
      "    [Phone] NVARCHAR(24),\n",
      "    [Fax] NVARCHAR(24),\n",
      "    [Email] NVARCHAR(60),\n",
      "    FOREIGN KEY ([ReportsTo]) REFERENCES \"employees\" ([EmployeeId]) \n",
      "\t\tON DELETE NO ACTION ON UPDATE NO ACTION\n",
      ")\n",
      "CREATE TABLE \"genres\"\n",
      "(\n",
      "    [GenreId] INTEGER PRIMARY KEY AUTOINCREMENT NOT NULL,\n",
      "    [Name] NVARCHAR(120)\n",
      ")\n",
      "CREATE TABLE \"invoices\"\n",
      "(\n",
      "    [InvoiceId] INTEGER PRIMARY KEY AUTOINCREMENT NOT NULL,\n",
      "    [CustomerId] INTEGER  NOT NULL,\n",
      "    [InvoiceDate] DATETIME  NOT NULL,\n",
      "    [BillingAddress] NVARCHAR(70),\n",
      "    [BillingCity] NVARCHAR(40),\n",
      "    [BillingState] NVARCHAR(40),\n",
      "    [BillingCountry] NVARCHAR(40),\n",
      "    [BillingPostalCode] NVARCHAR(10),\n",
      "    [Total] NUMERIC(10,2)  NOT NULL,\n",
      "    FOREIGN KEY ([CustomerId]) REFERENCES \"customers\" ([CustomerId]) \n",
      "\t\tON DELETE NO ACTION ON UPDATE NO ACTION\n",
      ")\n",
      "CREATE TABLE \"invoice_items\"\n",
      "(\n",
      "    [InvoiceLineId] INTEGER PRIMARY KEY AUTOINCREMENT NOT NULL,\n",
      "    [InvoiceId] INTEGER  NOT NULL,\n",
      "    [TrackId] INTEGER  NOT NULL,\n",
      "    [UnitPrice] NUMERIC(10,2)  NOT NULL,\n",
      "    [Quantity] INTEGER  NOT NULL,\n",
      "    FOREIGN KEY ([InvoiceId]) REFERENCES \"invoices\" ([InvoiceId]) \n",
      "\t\tON DELETE NO ACTION ON UPDATE NO ACTION,\n",
      "    FOREIGN KEY ([TrackId]) REFERENCES \"tracks\" ([TrackId]) \n",
      "\t\tON DELETE NO ACTION ON UPDATE NO ACTION\n",
      ")\n",
      "CREATE TABLE \"media_types\"\n",
      "(\n",
      "    [MediaTypeId] INTEGER PRIMARY KEY AUTOINCREMENT NOT NULL,\n",
      "    [Name] NVARCHAR(120)\n",
      ")\n",
      "CREATE TABLE \"playlists\"\n",
      "(\n",
      "    [PlaylistId] INTEGER PRIMARY KEY AUTOINCREMENT NOT NULL,\n",
      "    [Name] NVARCHAR(120)\n",
      ")\n",
      "CREATE TABLE \"playlist_track\"\n",
      "(\n",
      "    [PlaylistId] INTEGER  NOT NULL,\n",
      "    [TrackId] INTEGER  NOT NULL,\n",
      "    CONSTRAINT [PK_PlaylistTrack] PRIMARY KEY  ([PlaylistId], [TrackId]),\n",
      "    FOREIGN KEY ([PlaylistId]) REFERENCES \"playlists\" ([PlaylistId]) \n",
      "\t\tON DELETE NO ACTION ON UPDATE NO ACTION,\n",
      "    FOREIGN KEY ([TrackId]) REFERENCES \"tracks\" ([TrackId]) \n",
      "\t\tON DELETE NO ACTION ON UPDATE NO ACTION\n",
      ")\n",
      "CREATE TABLE \"tracks\"\n",
      "(\n",
      "    [TrackId] INTEGER PRIMARY KEY AUTOINCREMENT NOT NULL,\n",
      "    [Name] NVARCHAR(200)  NOT NULL,\n",
      "    [AlbumId] INTEGER,\n",
      "    [MediaTypeId] INTEGER  NOT NULL,\n",
      "    [GenreId] INTEGER,\n",
      "    [Composer] NVARCHAR(220),\n",
      "    [Milliseconds] INTEGER  NOT NULL,\n",
      "    [Bytes] INTEGER,\n",
      "    [UnitPrice] NUMERIC(10,2)  NOT NULL,\n",
      "    FOREIGN KEY ([AlbumId]) REFERENCES \"albums\" ([AlbumId]) \n",
      "\t\tON DELETE NO ACTION ON UPDATE NO ACTION,\n",
      "    FOREIGN KEY ([GenreId]) REFERENCES \"genres\" ([GenreId]) \n",
      "\t\tON DELETE NO ACTION ON UPDATE NO ACTION,\n",
      "    FOREIGN KEY ([MediaTypeId]) REFERENCES \"media_types\" ([MediaTypeId]) \n",
      "\t\tON DELETE NO ACTION ON UPDATE NO ACTION\n",
      ")\n",
      "CREATE TABLE sqlite_stat1(tbl,idx,stat)\n",
      "CREATE TABLE users (id INTEGER PRIMARY KEY, name TEXT)\n"
     ]
    }
   ],
   "source": [
    "import sqlite3\n",
    "\n",
    "db_path = r\"C:\\Users\\Chris\\Downloads\\chinook\\chinook.db\"\n",
    "conn = sqlite3.connect(db_path)\n",
    "cursor = conn.cursor()\n",
    "cursor.execute(\"SELECT sql FROM sqlite_master WHERE type='table';\")\n",
    "tables = cursor.fetchall()\n",
    "for table in tables:\n",
    "    print(table[0])\n",
    "\n"
   ]
  },
  {
   "cell_type": "code",
   "execution_count": 36,
   "id": "6459f888-0e2a-461c-a445-033b9e905770",
   "metadata": {},
   "outputs": [
    {
     "name": "stdout",
     "output_type": "stream",
     "text": [
      "  LastName FirstName                                               Name  \\\n",
      "0  Almeida   Roberto                            Right Next Door to Hell   \n",
      "1  Almeida   Roberto                                     In The Evening   \n",
      "2  Almeida   Roberto                                   Fool In The Rain   \n",
      "3  Almeida   Roberto  Saudade Dos Aviões Da Panair (Conversando No Bar)   \n",
      "4  Almeida   Roberto                             Caso Você Queira Saber   \n",
      "\n",
      "                     Title  \n",
      "0      Use Your Illusion I  \n",
      "1  In Through The Out Door  \n",
      "2  In Through The Out Door  \n",
      "3                    Minas  \n",
      "4                    Minas  \n"
     ]
    }
   ],
   "source": [
    "import sqlite3\n",
    "import pandas as pd\n",
    "\n",
    "db_path = r\"C:\\Users\\Chris\\Downloads\\chinook\\chinook.db\"\n",
    "db = sqlite3.connect(db_path)\n",
    "\n",
    "query = \"\"\"\n",
    "SELECT customers.LastName, customers.FirstName, tracks.Name AS Name, albums.Title AS Title\n",
    "FROM customers\n",
    "JOIN invoices ON customers.CustomerId = invoices.CustomerId\n",
    "JOIN invoice_items ON invoices.InvoiceId = invoice_items.InvoiceId\n",
    "JOIN tracks ON invoice_items.TrackId = tracks.TrackId\n",
    "JOIN albums ON tracks.AlbumId = albums.AlbumId\n",
    "ORDER BY customers.LastName, customers.FirstName;\n",
    "\"\"\"\n",
    "df = pd.read_sql_query(query, db)\n",
    "print(df.head())  \n"
   ]
  },
  {
   "cell_type": "code",
   "execution_count": null,
   "id": "44a4825f-9577-479a-b20f-a214652e278a",
   "metadata": {},
   "outputs": [],
   "source": []
  },
  {
   "cell_type": "code",
   "execution_count": null,
   "id": "9d286213-c178-4381-b9d3-bc1469719270",
   "metadata": {},
   "outputs": [],
   "source": []
  },
  {
   "cell_type": "code",
   "execution_count": null,
   "id": "33077b0e-76c0-472d-8935-35c24b971cd7",
   "metadata": {},
   "outputs": [],
   "source": []
  },
  {
   "cell_type": "code",
   "execution_count": null,
   "id": "35368f60-6d9d-42fb-819e-24cf46ee1796",
   "metadata": {},
   "outputs": [],
   "source": []
  },
  {
   "cell_type": "code",
   "execution_count": null,
   "id": "6fe256ed-d0a6-401f-8c19-9b40405d22da",
   "metadata": {},
   "outputs": [],
   "source": []
  },
  {
   "cell_type": "code",
   "execution_count": null,
   "id": "ae5dda44-5777-472d-b6fe-93bf87fb375d",
   "metadata": {},
   "outputs": [],
   "source": []
  },
  {
   "cell_type": "code",
   "execution_count": null,
   "id": "d3d4d49b-11c6-40f0-813d-4025a7377080",
   "metadata": {},
   "outputs": [],
   "source": []
  },
  {
   "cell_type": "code",
   "execution_count": null,
   "id": "500f1fa6-6d2f-4a4d-b8ac-3600f1d6480b",
   "metadata": {},
   "outputs": [],
   "source": []
  },
  {
   "cell_type": "code",
   "execution_count": null,
   "id": "89f2cfe7-2dee-469c-a2b4-111976b0797c",
   "metadata": {},
   "outputs": [],
   "source": []
  },
  {
   "cell_type": "code",
   "execution_count": null,
   "id": "23499221-f6a8-46f3-ad9a-9f35f2c4a3d2",
   "metadata": {},
   "outputs": [],
   "source": []
  },
  {
   "cell_type": "code",
   "execution_count": null,
   "id": "62dfce43-8df8-4970-b5fa-a52bb7650c2e",
   "metadata": {},
   "outputs": [],
   "source": []
  },
  {
   "cell_type": "code",
   "execution_count": null,
   "id": "ed46e19a-0cf8-4ac5-9867-7218efdd6c84",
   "metadata": {},
   "outputs": [],
   "source": []
  },
  {
   "cell_type": "code",
   "execution_count": null,
   "id": "dda53a9b-b850-4e95-a4d6-c36b56275467",
   "metadata": {},
   "outputs": [],
   "source": []
  },
  {
   "cell_type": "code",
   "execution_count": null,
   "id": "02aff504-486d-48c2-af16-89486714c566",
   "metadata": {},
   "outputs": [],
   "source": []
  },
  {
   "cell_type": "code",
   "execution_count": null,
   "id": "5ff7560d-4d47-4736-a2d9-25bcc37fcec4",
   "metadata": {},
   "outputs": [],
   "source": []
  },
  {
   "cell_type": "code",
   "execution_count": null,
   "id": "021eb20e-8561-4286-b349-9f6d88f76e84",
   "metadata": {},
   "outputs": [],
   "source": []
  },
  {
   "cell_type": "code",
   "execution_count": null,
   "id": "466f92ea-fef1-44d3-847b-b7e712837344",
   "metadata": {},
   "outputs": [],
   "source": []
  },
  {
   "cell_type": "code",
   "execution_count": null,
   "id": "0658f302-a138-47de-926a-0086d73db9c5",
   "metadata": {},
   "outputs": [],
   "source": []
  },
  {
   "cell_type": "code",
   "execution_count": null,
   "id": "0da6f1a2-68af-4ddb-bcdc-f3e511caf6e6",
   "metadata": {},
   "outputs": [],
   "source": []
  },
  {
   "cell_type": "code",
   "execution_count": null,
   "id": "363dee49-5c81-40fb-83df-2e045b088003",
   "metadata": {},
   "outputs": [],
   "source": []
  },
  {
   "cell_type": "code",
   "execution_count": null,
   "id": "3771ece6-486a-43cf-8d64-b81ff1811d80",
   "metadata": {},
   "outputs": [],
   "source": []
  },
  {
   "cell_type": "code",
   "execution_count": null,
   "id": "a01043b9-8170-4bdc-a45d-3f7c5b71ec6c",
   "metadata": {},
   "outputs": [],
   "source": []
  },
  {
   "cell_type": "code",
   "execution_count": null,
   "id": "5e7cca0f-03c2-442d-a077-fb399f1b020a",
   "metadata": {},
   "outputs": [],
   "source": []
  },
  {
   "cell_type": "code",
   "execution_count": null,
   "id": "82a58675-e7bc-43e3-904d-895db9b3d08a",
   "metadata": {},
   "outputs": [],
   "source": []
  },
  {
   "cell_type": "code",
   "execution_count": null,
   "id": "f3d93d98-d9b7-4c3f-8e3f-3f4b7b26ba39",
   "metadata": {},
   "outputs": [],
   "source": []
  },
  {
   "cell_type": "code",
   "execution_count": null,
   "id": "912c45cf-1258-4831-95b0-87518dd8db13",
   "metadata": {},
   "outputs": [],
   "source": []
  },
  {
   "cell_type": "code",
   "execution_count": null,
   "id": "6b26d661-ab49-4a49-a25e-6f859ab06dbd",
   "metadata": {},
   "outputs": [],
   "source": []
  },
  {
   "cell_type": "code",
   "execution_count": null,
   "id": "a3acc075-7802-48f6-bd40-3d3a33c32e40",
   "metadata": {},
   "outputs": [],
   "source": []
  },
  {
   "cell_type": "code",
   "execution_count": null,
   "id": "20c8f1f1-ba21-450a-b964-cc0b913a5201",
   "metadata": {},
   "outputs": [],
   "source": []
  },
  {
   "cell_type": "code",
   "execution_count": null,
   "id": "582696a4-b6ad-4624-a98e-19d36c9273f6",
   "metadata": {},
   "outputs": [],
   "source": []
  },
  {
   "cell_type": "code",
   "execution_count": null,
   "id": "2be05355-1414-4bf7-9375-0b31e8626b69",
   "metadata": {},
   "outputs": [],
   "source": []
  },
  {
   "cell_type": "code",
   "execution_count": null,
   "id": "30b37ea7-dc1e-451a-aecb-a2a5887d1f15",
   "metadata": {},
   "outputs": [],
   "source": []
  },
  {
   "cell_type": "code",
   "execution_count": null,
   "id": "6d62cda1-6ccf-458b-9a21-a482acc3d6cc",
   "metadata": {},
   "outputs": [],
   "source": []
  },
  {
   "cell_type": "code",
   "execution_count": null,
   "id": "edf3b102-7a2d-4606-8af3-9dfdd6b17168",
   "metadata": {},
   "outputs": [],
   "source": []
  },
  {
   "cell_type": "code",
   "execution_count": null,
   "id": "cd84e029-f7e5-492a-abce-9a7fa60222ac",
   "metadata": {},
   "outputs": [],
   "source": []
  },
  {
   "cell_type": "code",
   "execution_count": null,
   "id": "131b2c0a-2bb3-41d9-8012-86aacc74943f",
   "metadata": {},
   "outputs": [],
   "source": []
  },
  {
   "cell_type": "code",
   "execution_count": null,
   "id": "ff63e59c-ed60-428e-97dd-9e9318e7e828",
   "metadata": {},
   "outputs": [],
   "source": []
  },
  {
   "cell_type": "code",
   "execution_count": null,
   "id": "f1a5629c-849e-4f54-95b9-2b671f7fa475",
   "metadata": {},
   "outputs": [],
   "source": []
  },
  {
   "cell_type": "code",
   "execution_count": null,
   "id": "4e560ebf-9808-4041-b766-4fab4583b5d6",
   "metadata": {},
   "outputs": [],
   "source": []
  },
  {
   "cell_type": "code",
   "execution_count": null,
   "id": "041cc0cf-d4be-4cbd-b737-f70f9aecf00a",
   "metadata": {},
   "outputs": [],
   "source": []
  },
  {
   "cell_type": "code",
   "execution_count": null,
   "id": "f18bfd36-86e2-483a-aa2b-c7d11f01e4dc",
   "metadata": {},
   "outputs": [],
   "source": []
  },
  {
   "cell_type": "code",
   "execution_count": null,
   "id": "90b1c763-d993-4f0f-a160-a3169e2ab56e",
   "metadata": {},
   "outputs": [],
   "source": []
  },
  {
   "cell_type": "code",
   "execution_count": null,
   "id": "5a54e72f-feb6-4c2b-9127-8ec791e182c7",
   "metadata": {},
   "outputs": [],
   "source": []
  },
  {
   "cell_type": "code",
   "execution_count": null,
   "id": "827bf639-fe9c-4890-8e9d-17f9e136a7ed",
   "metadata": {},
   "outputs": [],
   "source": []
  },
  {
   "cell_type": "code",
   "execution_count": null,
   "id": "d3cc7552-61a2-453a-b45d-37f002fa4610",
   "metadata": {},
   "outputs": [],
   "source": []
  },
  {
   "cell_type": "code",
   "execution_count": null,
   "id": "967818f3-cfa2-4a59-a568-b28d93d4e2f9",
   "metadata": {},
   "outputs": [],
   "source": []
  },
  {
   "cell_type": "code",
   "execution_count": null,
   "id": "a4a5019c-3938-4b74-90f9-23f12aa3870d",
   "metadata": {},
   "outputs": [],
   "source": []
  },
  {
   "cell_type": "code",
   "execution_count": null,
   "id": "cf7634b9-c7f3-4a0c-bfc1-4112092f42d5",
   "metadata": {},
   "outputs": [],
   "source": []
  },
  {
   "cell_type": "code",
   "execution_count": null,
   "id": "571c18ad-985d-4b43-8abc-9db59bd6a4b8",
   "metadata": {},
   "outputs": [],
   "source": []
  },
  {
   "cell_type": "code",
   "execution_count": null,
   "id": "fa3172df-6dfa-493c-b2c8-dd045bf0b500",
   "metadata": {},
   "outputs": [],
   "source": []
  },
  {
   "cell_type": "code",
   "execution_count": null,
   "id": "ee4ed4a9-eeb2-477a-8a09-36b8281d28b0",
   "metadata": {},
   "outputs": [],
   "source": []
  },
  {
   "cell_type": "code",
   "execution_count": null,
   "id": "3da43f45-49c2-4b20-9ebe-4db19df5a24f",
   "metadata": {},
   "outputs": [],
   "source": []
  },
  {
   "cell_type": "code",
   "execution_count": null,
   "id": "24aa0121-1d41-4441-bc19-8e09f8b4243b",
   "metadata": {},
   "outputs": [],
   "source": []
  },
  {
   "cell_type": "code",
   "execution_count": null,
   "id": "54abba27-f356-4d50-8375-bea57562be53",
   "metadata": {},
   "outputs": [],
   "source": []
  },
  {
   "cell_type": "code",
   "execution_count": null,
   "id": "c8b20700-3aae-4d10-99e7-ca7e87505f30",
   "metadata": {},
   "outputs": [],
   "source": []
  },
  {
   "cell_type": "code",
   "execution_count": null,
   "id": "cb39626a-4933-4438-8126-858f4fbc3c3d",
   "metadata": {},
   "outputs": [],
   "source": []
  },
  {
   "cell_type": "code",
   "execution_count": null,
   "id": "47e5b675-fdb7-4486-a688-de6dcb32b3b8",
   "metadata": {},
   "outputs": [],
   "source": []
  },
  {
   "cell_type": "code",
   "execution_count": null,
   "id": "f4014756-ba59-4ecd-b944-2ce1da234099",
   "metadata": {},
   "outputs": [],
   "source": []
  },
  {
   "cell_type": "code",
   "execution_count": null,
   "id": "a962de8b-748c-46a7-96b4-5b04b569b199",
   "metadata": {},
   "outputs": [],
   "source": []
  },
  {
   "cell_type": "code",
   "execution_count": null,
   "id": "b2814aee-44ce-4da8-a4b5-190e2cf9d4e8",
   "metadata": {},
   "outputs": [],
   "source": []
  },
  {
   "cell_type": "code",
   "execution_count": null,
   "id": "def4a45a-2045-4432-90e8-d7e915e9bc10",
   "metadata": {},
   "outputs": [],
   "source": []
  },
  {
   "cell_type": "code",
   "execution_count": null,
   "id": "cd0fce5b-19aa-4d59-b614-57fb37fab15a",
   "metadata": {},
   "outputs": [],
   "source": []
  },
  {
   "cell_type": "code",
   "execution_count": null,
   "id": "00333c28-b7c1-43c0-a89b-44b5c5632a55",
   "metadata": {},
   "outputs": [],
   "source": []
  },
  {
   "cell_type": "code",
   "execution_count": null,
   "id": "666eef08-81a7-4284-8f96-3a6d0c4c7b60",
   "metadata": {},
   "outputs": [],
   "source": []
  },
  {
   "cell_type": "code",
   "execution_count": null,
   "id": "9f695cba-f6d5-4e77-a3ef-862fcc1d3bb4",
   "metadata": {},
   "outputs": [],
   "source": []
  },
  {
   "cell_type": "code",
   "execution_count": null,
   "id": "49c8ee7f-25e5-4de2-84a3-34ab4f315d6d",
   "metadata": {},
   "outputs": [],
   "source": []
  },
  {
   "cell_type": "code",
   "execution_count": null,
   "id": "e63c65af-5a7a-46e4-8202-bd6f16255e7e",
   "metadata": {},
   "outputs": [],
   "source": []
  },
  {
   "cell_type": "code",
   "execution_count": null,
   "id": "91960238-0d91-4037-a56e-b85a688ff090",
   "metadata": {},
   "outputs": [],
   "source": []
  },
  {
   "cell_type": "code",
   "execution_count": null,
   "id": "d8fdb180-d455-469b-b6db-f8dd1aef28b8",
   "metadata": {},
   "outputs": [],
   "source": []
  },
  {
   "cell_type": "code",
   "execution_count": null,
   "id": "3159c2d8-a34d-4250-92e4-1f64fa6cd2ad",
   "metadata": {},
   "outputs": [],
   "source": []
  },
  {
   "cell_type": "code",
   "execution_count": null,
   "id": "685c5f60-4c90-43a2-8d53-f7e498f282df",
   "metadata": {},
   "outputs": [],
   "source": []
  },
  {
   "cell_type": "code",
   "execution_count": null,
   "id": "f8912465-4bb3-480c-aedd-066ca798a71b",
   "metadata": {},
   "outputs": [],
   "source": []
  },
  {
   "cell_type": "code",
   "execution_count": null,
   "id": "c2ae9ba1-9a94-4a78-b7bc-33ee69a76b6f",
   "metadata": {},
   "outputs": [],
   "source": []
  },
  {
   "cell_type": "code",
   "execution_count": null,
   "id": "4ec71463-6264-4633-939b-41be17f6e4d6",
   "metadata": {},
   "outputs": [],
   "source": []
  },
  {
   "cell_type": "code",
   "execution_count": null,
   "id": "b37fae69-6c6e-46ba-aae6-e1fb7b0fe193",
   "metadata": {},
   "outputs": [],
   "source": []
  },
  {
   "cell_type": "code",
   "execution_count": null,
   "id": "17289fdf-4ecf-4003-9bec-0eff6f37a78a",
   "metadata": {},
   "outputs": [],
   "source": []
  },
  {
   "cell_type": "code",
   "execution_count": null,
   "id": "6995da70-5c8d-447b-8c55-3e6e812b9e4b",
   "metadata": {},
   "outputs": [],
   "source": []
  },
  {
   "cell_type": "code",
   "execution_count": null,
   "id": "1a897522-43dd-4b40-937e-507282e0e2a5",
   "metadata": {},
   "outputs": [],
   "source": []
  },
  {
   "cell_type": "code",
   "execution_count": null,
   "id": "82783a68-9de5-4af6-9b2d-b47dd558f02e",
   "metadata": {},
   "outputs": [],
   "source": []
  },
  {
   "cell_type": "code",
   "execution_count": null,
   "id": "48442e29-fcea-41bd-b0f4-8ae68fdeacfc",
   "metadata": {},
   "outputs": [],
   "source": []
  },
  {
   "cell_type": "code",
   "execution_count": null,
   "id": "315b324f-eaa5-4730-8373-10f294691e38",
   "metadata": {},
   "outputs": [],
   "source": []
  },
  {
   "cell_type": "code",
   "execution_count": null,
   "id": "b53bc0a0-20ae-4dcc-8ccc-62e79b135fd3",
   "metadata": {},
   "outputs": [],
   "source": []
  },
  {
   "cell_type": "code",
   "execution_count": null,
   "id": "b0b8f6a1-19e4-4d32-8f76-691459e53dac",
   "metadata": {},
   "outputs": [],
   "source": []
  },
  {
   "cell_type": "code",
   "execution_count": null,
   "id": "e6c73844-b372-4838-b01c-93705ae987d0",
   "metadata": {},
   "outputs": [],
   "source": []
  },
  {
   "cell_type": "code",
   "execution_count": null,
   "id": "6adbd3b0-c984-4a51-9130-e33e6000780d",
   "metadata": {},
   "outputs": [],
   "source": []
  },
  {
   "cell_type": "code",
   "execution_count": null,
   "id": "c108ff43-45e9-4e1c-af5c-433d20daf693",
   "metadata": {},
   "outputs": [],
   "source": []
  },
  {
   "cell_type": "code",
   "execution_count": null,
   "id": "81d60c71-f287-4098-a021-8921ad977a0f",
   "metadata": {},
   "outputs": [],
   "source": []
  },
  {
   "cell_type": "code",
   "execution_count": null,
   "id": "6225bf75-7a44-415f-9a5b-b44ad5eb812d",
   "metadata": {},
   "outputs": [],
   "source": []
  },
  {
   "cell_type": "code",
   "execution_count": null,
   "id": "64f69d2c-747b-4d8e-97e4-f522fb117680",
   "metadata": {},
   "outputs": [],
   "source": []
  },
  {
   "cell_type": "code",
   "execution_count": null,
   "id": "b8f4c8b1-18de-4f7c-a70f-26aedd2b663d",
   "metadata": {},
   "outputs": [],
   "source": []
  },
  {
   "cell_type": "code",
   "execution_count": null,
   "id": "54411866-000d-43b5-8164-86fada93eee4",
   "metadata": {},
   "outputs": [],
   "source": []
  },
  {
   "cell_type": "code",
   "execution_count": null,
   "id": "4e30a80e-b8b1-4144-b90b-fab904ae774f",
   "metadata": {},
   "outputs": [],
   "source": []
  }
 ],
 "metadata": {
  "kernelspec": {
   "display_name": "Python [conda env:base] *",
   "language": "python",
   "name": "conda-base-py"
  },
  "language_info": {
   "codemirror_mode": {
    "name": "ipython",
    "version": 3
   },
   "file_extension": ".py",
   "mimetype": "text/x-python",
   "name": "python",
   "nbconvert_exporter": "python",
   "pygments_lexer": "ipython3",
   "version": "3.12.7"
  }
 },
 "nbformat": 4,
 "nbformat_minor": 5
}
