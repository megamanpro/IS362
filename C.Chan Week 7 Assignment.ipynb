{
 "cells": [
  {
   "cell_type": "code",
   "execution_count": 24,
   "id": "646c6651-8726-4e2d-a6a5-ea4e40eb73f0",
   "metadata": {},
   "outputs": [
    {
     "name": "stdout",
     "output_type": "stream",
     "text": [
      "  Unnamed: 0  Inception  Interstellar  The Dark Knight Rises  The Dark Knight  \\\n",
      "0      Chris          5           5.0                    4.0                3   \n",
      "1    Crystal          5           2.0                    1.0                4   \n",
      "2      Chloe          1           NaN                    NaN                5   \n",
      "3      Clyde          2           NaN                    5.0                4   \n",
      "4      Charm          2           1.0                    3.0                5   \n",
      "\n",
      "   Tenet  Dunkirk   \n",
      "0    4.0       3.0  \n",
      "1    5.0       NaN  \n",
      "2    NaN       NaN  \n",
      "3    NaN       5.0  \n",
      "4    5.0       5.0  \n"
     ]
    }
   ],
   "source": [
    "#1. Load the ratings by user information that you collected into a pandas dataframe.\n",
    "import pandas as pd\n",
    "#reading the movie ratings csv file\n",
    "df = pd.read_csv(r'C:\\Users\\Chris\\Downloads\\Movie Ratings.csv')\n",
    "print(df)\n"
   ]
  },
  {
   "cell_type": "code",
   "execution_count": 46,
   "id": "79c7abf1-f283-4ff7-86af-9318025dfc0a",
   "metadata": {},
   "outputs": [
    {
     "name": "stdout",
     "output_type": "stream",
     "text": [
      "User Averages: 0    4.0\n",
      "1    3.4\n",
      "2    3.0\n",
      "3    4.0\n",
      "4    3.5\n",
      "dtype: float64\n",
      "Movie Averages: Inception                3.000000\n",
      "Interstellar             2.666667\n",
      "The Dark Knight Rises    3.250000\n",
      "The Dark Knight          4.200000\n",
      "Tenet                    4.666667\n",
      "Dunkirk                  4.333333\n",
      "dtype: float64\n"
     ]
    }
   ],
   "source": [
    "#2. Show the average ratings for each user and each movie.\n",
    "\n",
    "#Averaging out the user's scores and the average for each movie\n",
    "#Only average any numbers, skipping the NaN values\n",
    "\n",
    "df = df.select_dtypes(include=['number'])\n",
    "user_avg = df.mean(axis=1, skipna=True)\n",
    "movie_avg = df.mean(axis=0, skipna=True)\n",
    "print(\"User Averages:\\n\", user_avg)\n",
    "print(\"Movie Averages:\\n\", movie_avg)"
   ]
  },
  {
   "cell_type": "code",
   "execution_count": 48,
   "id": "bea180de-6be1-4a63-ab50-f0bf90e4011d",
   "metadata": {
    "scrolled": true
   },
   "outputs": [
    {
     "name": "stdout",
     "output_type": "stream",
     "text": [
      "Normalized Ratings:\n",
      "\n",
      "   Inception  Interstellar  The Dark Knight Rises  The Dark Knight  Tenet  \\\n",
      "0       1.00          1.00                    0.5         0.000000    0.5   \n",
      "1       1.00          0.25                    0.0         0.750000    1.0   \n",
      "2       0.00           NaN                    NaN         1.000000    NaN   \n",
      "3       0.00           NaN                    1.0         0.666667    NaN   \n",
      "4       0.25          0.00                    0.5         1.000000    1.0   \n",
      "\n",
      "   Dunkirk   \n",
      "0       0.0  \n",
      "1       NaN  \n",
      "2       NaN  \n",
      "3       1.0  \n",
      "4       1.0  \n",
      "Normalized User Averages:\n",
      " 0    0.500000\n",
      "1    0.600000\n",
      "2    0.500000\n",
      "3    0.666667\n",
      "4    0.625000\n",
      "dtype: float64\n",
      "Normalized Movie Averages:\n",
      " Inception                0.450000\n",
      "Interstellar             0.416667\n",
      "The Dark Knight Rises    0.500000\n",
      "The Dark Knight          0.683333\n",
      "Tenet                    0.833333\n",
      "Dunkirk                  0.666667\n",
      "dtype: float64\n"
     ]
    }
   ],
   "source": [
    "#3. Create a new pandas dataframe, with normalized ratings for each user. Again, show the average ratings for each user and each movie.\n",
    "\n",
    "#Performing the normalization formula for normalizing values\n",
    "\n",
    "normalized_df = df.sub(df.min(axis=1), axis=0).div(df.max(axis=1) - df.min(axis=1), axis=0)\n",
    "print(\"Normalized Ratings:\\n\")\n",
    "print(normalized_df)\n",
    "\n",
    "# Calculate the normalized average for each user and each movie\n",
    "normalized_user_avg = normalized_df.mean(axis=1) \n",
    "normalized_movie_avg = normalized_df.mean(axis=0)  \n",
    "\n",
    "print(\"Normalized User Averages:\\n\", normalized_user_avg)\n",
    "print(\"Normalized Movie Averages:\\n\", normalized_movie_avg)"
   ]
  },
  {
   "cell_type": "markdown",
   "id": "d5cfdd16-e1ef-421a-bf6c-cdc278b12adb",
   "metadata": {},
   "source": [
    "#4. Provide a text-based conclusion: explain what might be advantages and disadvantages of using normalized ratings instead of the actual ratings.\n",
    "    Using normalized ratings can help with making a fair comparison across all users on the table. It doesn't matter if a user scores everything high or another user scores everything low, everyone's ratings will be put on the same 0-1 scale. A disadvantage about this system however, is the loss of the absolute ratings. We are replacing the actual rating to a number between 0-1. This will make it hard to discern exactly what the numbers mean."
   ]
  },
  {
   "cell_type": "code",
   "execution_count": null,
   "id": "df5d878c-0a92-48c1-b6d2-f5735362b493",
   "metadata": {},
   "outputs": [],
   "source": [
    "# 5. [Extra credit] Create another new pandas dataframe, with standardized ratings for each user. Once again, show the average ratings for each user and each movie.\n",
    "standardized_df = df.sub(df.mean(axis=1), axis=0).div(df.std(axis=1), axis=0)\n",
    "print(\"Standardized Ratings:\")\n",
    "print(standardized_df)\n",
    "\n",
    "# Calculate the standardized average for each user and each movie\n",
    "standardized_user_avg = standardized_df.mean(axis=1)  \n",
    "standardized_movie_avg = standardized_df.mean(axis=0)  \n",
    "\n",
    "print(\"Standardized User Average:\\n\", standardized_user_avg)\n",
    "print(\"Standardized Movie Average:\\n\", standardized_movie_avg)"
   ]
  },
  {
   "cell_type": "code",
   "execution_count": null,
   "id": "e0359911-a477-4227-9613-adbdb4165c54",
   "metadata": {},
   "outputs": [],
   "source": []
  }
 ],
 "metadata": {
  "kernelspec": {
   "display_name": "Python [conda env:base] *",
   "language": "python",
   "name": "conda-base-py"
  },
  "language_info": {
   "codemirror_mode": {
    "name": "ipython",
    "version": 3
   },
   "file_extension": ".py",
   "mimetype": "text/x-python",
   "name": "python",
   "nbconvert_exporter": "python",
   "pygments_lexer": "ipython3",
   "version": "3.12.7"
  }
 },
 "nbformat": 4,
 "nbformat_minor": 5
}
