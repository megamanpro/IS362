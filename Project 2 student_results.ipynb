{
 "cells": [
  {
   "cell_type": "code",
   "execution_count": 120,
   "id": "1ce6eb9f-1e72-4891-a75b-b4f6507b8ffd",
   "metadata": {},
   "outputs": [
    {
     "name": "stdout",
     "output_type": "stream",
     "text": [
      "   id    name  phone sex and age test number  term 1  term 2  term 3\n",
      "0   1    Mike    134        m_12      test 1      76      84      87\n",
      "1   2   Linda    270        f_13      test 1      88      90      73\n",
      "2   3     Sam    210        m_11      test 1      78      74      80\n",
      "3   4  Esther    617        f_12      test 1      68      75      74\n",
      "4   5    Mary    114        f_14      test 1      65      67      64\n",
      "5   1    Mike    134        m_12      test 2      85      80      90\n",
      "6   2   Linda    270        f_13      test 2      87      82      94\n",
      "7   3     Sam    210        m_11      test 2      80      87      80\n",
      "8   4  Esther    617        f_12      test 2      70      75      78\n",
      "9   5    Mary    114        f_14      test 2      68      70      63\n"
     ]
    }
   ],
   "source": [
    "import pandas as pd\n",
    "df = pd.read_csv(r'https://gist.githubusercontent.com/Kimmirikwa/b69d0ea134820ea52f8481991ffae93e/raw/4db7b1698035ee29885d10e1a59bd902716ae168/student_results.csv')\n",
    "print(df)"
   ]
  },
  {
   "cell_type": "code",
   "execution_count": 124,
   "id": "d962f610-8424-4afe-a040-15a0893b89c1",
   "metadata": {},
   "outputs": [
    {
     "data": {
      "text/html": [
       "<div>\n",
       "<style scoped>\n",
       "    .dataframe tbody tr th:only-of-type {\n",
       "        vertical-align: middle;\n",
       "    }\n",
       "\n",
       "    .dataframe tbody tr th {\n",
       "        vertical-align: top;\n",
       "    }\n",
       "\n",
       "    .dataframe thead th {\n",
       "        text-align: right;\n",
       "    }\n",
       "</style>\n",
       "<table border=\"1\" class=\"dataframe\">\n",
       "  <thead>\n",
       "    <tr style=\"text-align: right;\">\n",
       "      <th></th>\n",
       "      <th>id</th>\n",
       "      <th>name</th>\n",
       "      <th>phone</th>\n",
       "      <th>test number</th>\n",
       "      <th>term 1</th>\n",
       "      <th>term 2</th>\n",
       "      <th>term 3</th>\n",
       "      <th>sex</th>\n",
       "      <th>age</th>\n",
       "    </tr>\n",
       "  </thead>\n",
       "  <tbody>\n",
       "    <tr>\n",
       "      <th>0</th>\n",
       "      <td>1</td>\n",
       "      <td>Mike</td>\n",
       "      <td>134</td>\n",
       "      <td>test 1</td>\n",
       "      <td>76</td>\n",
       "      <td>84</td>\n",
       "      <td>87</td>\n",
       "      <td>m</td>\n",
       "      <td>12</td>\n",
       "    </tr>\n",
       "    <tr>\n",
       "      <th>1</th>\n",
       "      <td>2</td>\n",
       "      <td>Linda</td>\n",
       "      <td>270</td>\n",
       "      <td>test 1</td>\n",
       "      <td>88</td>\n",
       "      <td>90</td>\n",
       "      <td>73</td>\n",
       "      <td>f</td>\n",
       "      <td>13</td>\n",
       "    </tr>\n",
       "    <tr>\n",
       "      <th>2</th>\n",
       "      <td>3</td>\n",
       "      <td>Sam</td>\n",
       "      <td>210</td>\n",
       "      <td>test 1</td>\n",
       "      <td>78</td>\n",
       "      <td>74</td>\n",
       "      <td>80</td>\n",
       "      <td>m</td>\n",
       "      <td>11</td>\n",
       "    </tr>\n",
       "    <tr>\n",
       "      <th>3</th>\n",
       "      <td>4</td>\n",
       "      <td>Esther</td>\n",
       "      <td>617</td>\n",
       "      <td>test 1</td>\n",
       "      <td>68</td>\n",
       "      <td>75</td>\n",
       "      <td>74</td>\n",
       "      <td>f</td>\n",
       "      <td>12</td>\n",
       "    </tr>\n",
       "    <tr>\n",
       "      <th>4</th>\n",
       "      <td>5</td>\n",
       "      <td>Mary</td>\n",
       "      <td>114</td>\n",
       "      <td>test 1</td>\n",
       "      <td>65</td>\n",
       "      <td>67</td>\n",
       "      <td>64</td>\n",
       "      <td>f</td>\n",
       "      <td>14</td>\n",
       "    </tr>\n",
       "    <tr>\n",
       "      <th>5</th>\n",
       "      <td>1</td>\n",
       "      <td>Mike</td>\n",
       "      <td>134</td>\n",
       "      <td>test 2</td>\n",
       "      <td>85</td>\n",
       "      <td>80</td>\n",
       "      <td>90</td>\n",
       "      <td>m</td>\n",
       "      <td>12</td>\n",
       "    </tr>\n",
       "    <tr>\n",
       "      <th>6</th>\n",
       "      <td>2</td>\n",
       "      <td>Linda</td>\n",
       "      <td>270</td>\n",
       "      <td>test 2</td>\n",
       "      <td>87</td>\n",
       "      <td>82</td>\n",
       "      <td>94</td>\n",
       "      <td>f</td>\n",
       "      <td>13</td>\n",
       "    </tr>\n",
       "    <tr>\n",
       "      <th>7</th>\n",
       "      <td>3</td>\n",
       "      <td>Sam</td>\n",
       "      <td>210</td>\n",
       "      <td>test 2</td>\n",
       "      <td>80</td>\n",
       "      <td>87</td>\n",
       "      <td>80</td>\n",
       "      <td>m</td>\n",
       "      <td>11</td>\n",
       "    </tr>\n",
       "    <tr>\n",
       "      <th>8</th>\n",
       "      <td>4</td>\n",
       "      <td>Esther</td>\n",
       "      <td>617</td>\n",
       "      <td>test 2</td>\n",
       "      <td>70</td>\n",
       "      <td>75</td>\n",
       "      <td>78</td>\n",
       "      <td>f</td>\n",
       "      <td>12</td>\n",
       "    </tr>\n",
       "    <tr>\n",
       "      <th>9</th>\n",
       "      <td>5</td>\n",
       "      <td>Mary</td>\n",
       "      <td>114</td>\n",
       "      <td>test 2</td>\n",
       "      <td>68</td>\n",
       "      <td>70</td>\n",
       "      <td>63</td>\n",
       "      <td>f</td>\n",
       "      <td>14</td>\n",
       "    </tr>\n",
       "  </tbody>\n",
       "</table>\n",
       "</div>"
      ],
      "text/plain": [
       "   id    name  phone test number  term 1  term 2  term 3 sex age\n",
       "0   1    Mike    134      test 1      76      84      87   m  12\n",
       "1   2   Linda    270      test 1      88      90      73   f  13\n",
       "2   3     Sam    210      test 1      78      74      80   m  11\n",
       "3   4  Esther    617      test 1      68      75      74   f  12\n",
       "4   5    Mary    114      test 1      65      67      64   f  14\n",
       "5   1    Mike    134      test 2      85      80      90   m  12\n",
       "6   2   Linda    270      test 2      87      82      94   f  13\n",
       "7   3     Sam    210      test 2      80      87      80   m  11\n",
       "8   4  Esther    617      test 2      70      75      78   f  12\n",
       "9   5    Mary    114      test 2      68      70      63   f  14"
      ]
     },
     "execution_count": 124,
     "metadata": {},
     "output_type": "execute_result"
    }
   ],
   "source": [
    "# Split 'sex and age' into 'sex' and 'age'\n",
    "df[['sex', 'age']] = df['sex and age'].str.split('_', expand=True)\n",
    "df = df.drop(columns=['sex and age'])\n",
    "df\n"
   ]
  },
  {
   "cell_type": "code",
   "execution_count": 146,
   "id": "0cc9007e-4fc3-469c-beaf-dc5ce6152ecc",
   "metadata": {},
   "outputs": [
    {
     "name": "stdout",
     "output_type": "stream",
     "text": [
      "            id    name phone sex age term 1        term 2        term 3       \n",
      "test number                          test 1 test 2 test 1 test 2 test 1 test 2\n",
      "0            1    Mike   134   m  12   76.0   85.0   84.0   80.0   87.0   90.0\n",
      "1            2   Linda   270   f  13   88.0   87.0   90.0   82.0   73.0   94.0\n",
      "2            3     Sam   210   m  11   78.0   80.0   74.0   87.0   80.0   80.0\n",
      "3            4  Esther   617   f  12   68.0   70.0   75.0   75.0   74.0   78.0\n",
      "4            5    Mary   114   f  14   65.0   68.0   67.0   70.0   64.0   63.0\n"
     ]
    }
   ],
   "source": [
    "# Pivot 'test number' into separate columns for 'test 1' and 'test 2'\n",
    "df_pivoted = df.pivot_table(index=['id', 'name', 'phone', 'sex', 'age'], \n",
    "                            columns='test number', \n",
    "                            values=['term 1', 'term 2', 'term 3']).reset_index()\n",
    "print(df_pivoted.head())\n"
   ]
  },
  {
   "cell_type": "code",
   "execution_count": 152,
   "id": "46e382e4-ecdc-495a-8f44-68e2521d6573",
   "metadata": {},
   "outputs": [
    {
     "name": "stdout",
     "output_type": "stream",
     "text": [
      "               name average_score\n",
      "test number                      \n",
      "0              Mike     83.666667\n",
      "1             Linda     85.666667\n",
      "2               Sam     79.833333\n",
      "3            Esther     73.333333\n",
      "4              Mary     66.166667\n"
     ]
    }
   ],
   "source": [
    "# Calculate the average scores across all terms and tests\n",
    "df_pivoted['average_score'] = df_pivoted[\n",
    "    [('term 1', 'test 1'), ('term 1', 'test 2'), \n",
    "     ('term 2', 'test 1'), ('term 2', 'test 2'), \n",
    "     ('term 3', 'test 1'), ('term 3', 'test 2')]\n",
    "].mean(axis=1)\n",
    "\n",
    "print(df_pivoted[['name', 'average_score']])\n",
    "\n"
   ]
  },
  {
   "cell_type": "code",
   "execution_count": 164,
   "id": "2b5743ae-6b76-4fbe-82fb-0e56d28d838c",
   "metadata": {},
   "outputs": [
    {
     "data": {
      "image/png": "[encoded data removed]",
      "text/plain": [
       "<Figure size 640x480 with 1 Axes>"
      ]
     },
     "metadata": {},
     "output_type": "display_data"
    }
   ],
   "source": [
    "import matplotlib.pyplot as plt\n",
    "df_pivoted_sorted = df_pivoted.sort_values(by='average_score', ascending=True)\n",
    "plt.figure()\n",
    "plt.bar(df_pivoted_sorted['name'], df_pivoted_sorted['average_score'], color='skyblue')\n",
    "plt.title('Average Scores of Students')\n",
    "plt.xlabel('Student Name')\n",
    "plt.ylabel('Average Score')\n",
    "plt.grid(axis='y', linestyle='--')\n",
    "\n",
    "plt.show()\n"
   ]
  },
  {
   "cell_type": "markdown",
   "id": "a63ea5bf-6687-406d-8a62-ebd20fe59695",
   "metadata": {},
   "source": [
    "First we split up the column sex_age into 2 seperate columns, then we moved test 1 and 2 to be their own columns, reducing the amount of rows by half. Linda scored the highest average while Mary scored the lowest. "
   ]
  }
 ],
 "metadata": {
  "kernelspec": {
   "display_name": "Python [conda env:base] *",
   "language": "python",
   "name": "conda-base-py"
  },
  "language_info": {
   "codemirror_mode": {
    "name": "ipython",
    "version": 3
   },
   "file_extension": ".py",
   "mimetype": "text/x-python",
   "name": "python",
   "nbconvert_exporter": "python",
   "pygments_lexer": "ipython3",
   "version": "3.12.7"
  }
 },
 "nbformat": 4,
 "nbformat_minor": 5
}
