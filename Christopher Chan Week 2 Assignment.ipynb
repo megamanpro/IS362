{
  "metadata": {
    "kernelspec": {
      "name": "python",
      "display_name": "Python (Pyodide)",
      "language": "python"
    },
    "language_info": {
      "codemirror_mode": {
        "name": "python",
        "version": 3
      },
      "file_extension": ".py",
      "mimetype": "text/x-python",
      "name": "python",
      "nbconvert_exporter": "python",
      "pygments_lexer": "ipython3",
      "version": "3.8"
    }
  },
  "nbformat_minor": 5,
  "nbformat": 4,
  "cells": [
    {
      "id": "a8a45c20-5f93-4329-96a7-283344948ac8",
      "cell_type": "markdown",
      "source": "### Using Lists as Queues\n#It is also possible to use a list as a queue, where the first element added is the first element retrieved (“first-in, first-out”); however, lists are not efficient for this purpose. While appends and pops from the end of list are fast, doing inserts or pops from the beginning of a list is slow (because all of the other elements have to be shifted by one).\n#To implement a queue, use collections.deque which was designed to have fast appends and pops from both ends. For example:\n\n",
      "metadata": {}
    },
    {
      "id": "875b03a7-8bff-4033-9a62-db9321c73169",
      "cell_type": "code",
      "source": "from collections import deque\nqueue = deque([\"Chris\", \"Crystal\", \"Chloe\"])\nprint(queue)\nqueue.append(\"Panther\")           # Panther arrives\nprint(queue)\nqueue.append(\"Luffy\")          # Luffy arrives\nprint(queue)\nqueue.popleft()                 # The first to arrive now leaves\nprint(queue)\nqueue.popleft()                 # The second to arrive now leaves\nprint(queue)                          # Remaining queue in order of arrival\n\nprint(len(queue))             #Show how many are still in the queue\n\n",
      "metadata": {
        "trusted": true
      },
      "outputs": [
        {
          "name": "stdout",
          "output_type": "stream",
          "text": "deque(['Chris', 'Crystal', 'Chloe'])\ndeque(['Chris', 'Crystal', 'Chloe', 'Panther'])\ndeque(['Chris', 'Crystal', 'Chloe', 'Panther', 'Luffy'])\ndeque(['Crystal', 'Chloe', 'Panther', 'Luffy'])\ndeque(['Chloe', 'Panther', 'Luffy'])\n3\n"
        }
      ],
      "execution_count": 27
    },
    {
      "id": "b12b69b3-f6f3-4508-82e4-a67f72c366a2",
      "cell_type": "code",
      "source": "",
      "metadata": {
        "trusted": true
      },
      "outputs": [],
      "execution_count": null
    }
  ]
}
